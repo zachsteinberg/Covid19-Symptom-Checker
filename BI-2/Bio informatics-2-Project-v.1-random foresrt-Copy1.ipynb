{
 "cells": [
  {
   "cell_type": "code",
   "execution_count": 26,
   "metadata": {},
   "outputs": [],
   "source": [
    "import pandas as pd\n",
    "import numpy as np\n",
    "from pandas.api.types import CategoricalDtype\n",
    "from  sklearn import ensemble\n",
    "!"
   ]
  },
  {
   "cell_type": "code",
   "execution_count": 63,
   "metadata": {},
   "outputs": [
    {
     "name": "stdout",
     "output_type": "stream",
     "text": [
      "278848\n",
      "274956\n"
     ]
    }
   ],
   "source": [
    "df1=pd.read_csv('train.csv',\n",
    "               dtype='unicode')\n",
    "df1=df1.astype('category')\n",
    "\n",
    "df2=pd.read_csv('test.csv',\n",
    "               dtype='unicode')\n",
    "df2=df2.astype('category')\n",
    "print(len(df2))\n",
    "df1['corona_result'].replace('other', np.nan, inplace=True); df1= df1.dropna()\n",
    "df2['corona_result'].replace('other', np.nan, inplace=True); df2= df2.dropna()\n",
    "print(len(df2))\n"
   ]
  },
  {
   "cell_type": "code",
   "execution_count": 64,
   "metadata": {},
   "outputs": [
    {
     "name": "stdout",
     "output_type": "stream",
     "text": [
      "2151898\n"
     ]
    }
   ],
   "source": [
    "# df1 = df1[df1['corona_result'].replace('None', np.nan, inplace=True)]\n",
    "print(len(df1.dropna()))"
   ]
  },
  {
   "cell_type": "code",
   "execution_count": 65,
   "metadata": {},
   "outputs": [
    {
     "name": "stdout",
     "output_type": "stream",
     "text": [
      "0\n",
      "1\n"
     ]
    }
   ],
   "source": [
    "df = [df1,df2]\n",
    "for i in [0,1]:\n",
    "    print(i)\n",
    "    df[1]['gender'] = df[1]['gender'].astype(CategoricalDtype(categories=['female', 'male','None'], ordered=True))\n",
    "    df[1]['age_60_and_above'] = df[1]['age_60_and_above'].astype(CategoricalDtype(categories=['No', 'Yes','None'], ordered=True))\n",
    "    df[1]['test_indication'] = df[1]['test_indication'].astype(CategoricalDtype(categories=['Abroad', 'Contact with confirmed', 'Other'], ordered=True))\n",
    "    df[1]['corona_result'] = df[1]['corona_result'].astype(CategoricalDtype(categories=['negative', 'positive', 'other'], ordered=True))\n",
    "\n",
    "\n",
    "for i in df1.columns:\n",
    "    df1[i] = df1[i].cat.codes\n",
    "    df2[i] = df2[i].cat.codes\n",
    "    "
   ]
  },
  {
   "cell_type": "code",
   "execution_count": 66,
   "metadata": {},
   "outputs": [
    {
     "name": "stderr",
     "output_type": "stream",
     "text": [
      "C:\\Users\\kurie\\anaconda3\\lib\\site-packages\\ipykernel_launcher.py:1: SettingWithCopyWarning: \n",
      "A value is trying to be set on a copy of a slice from a DataFrame\n",
      "\n",
      "See the caveats in the documentation: https://pandas.pydata.org/pandas-docs/stable/user_guide/indexing.html#returning-a-view-versus-a-copy\n",
      "  \"\"\"Entry point for launching an IPython kernel.\n",
      "C:\\Users\\kurie\\anaconda3\\lib\\site-packages\\ipykernel_launcher.py:2: SettingWithCopyWarning: \n",
      "A value is trying to be set on a copy of a slice from a DataFrame\n",
      "\n",
      "See the caveats in the documentation: https://pandas.pydata.org/pandas-docs/stable/user_guide/indexing.html#returning-a-view-versus-a-copy\n",
      "  \n"
     ]
    }
   ],
   "source": [
    "df1['gender'][df1['gender']==2]= 1\n",
    "df1['corona_result'][df1['corona_result']==2]= 1\n",
    "\n",
    "df2['gender'][df2['gender']==2]= 1\n",
    "df2['corona_result'][df2['corona_result']==2]= 1\n"
   ]
  },
  {
   "cell_type": "code",
   "execution_count": 67,
   "metadata": {},
   "outputs": [],
   "source": [
    "df1.dropna(inplace=True)\n",
    "\n",
    "X_train = df1[['cough', 'fever', 'sore_throat', 'shortness_of_breath',\n",
    "       'head_ache','gender']].values\n",
    "X_test = df1['corona_result']\n",
    "\n",
    "y_train = df2[['cough', 'fever', 'sore_throat', 'shortness_of_breath',\n",
    "       'head_ache','gender']].values\n",
    "y_test = df2['corona_result']\n",
    "\n",
    "RF = ensemble.RandomForestClassifier()\n",
    "RF.fit(X_train,X_test)\n",
    "y_pred = RF.predict(y_train)"
   ]
  },
  {
   "cell_type": "code",
   "execution_count": 68,
   "metadata": {},
   "outputs": [
    {
     "name": "stdout",
     "output_type": "stream",
     "text": [
      "0.4146983754000728 0.9474570476730823 0.5141651597347799 0.3474777649534931\n"
     ]
    },
    {
     "data": {
      "text/plain": [
       "<sklearn.metrics._plot.confusion_matrix.ConfusionMatrixDisplay at 0x20232d541c8>"
      ]
     },
     "execution_count": 68,
     "metadata": {},
     "output_type": "execute_result"
    },
    {
     "data": {
      "image/png": "[encoded data removed]",
      "text/plain": [
       "<Figure size 432x288 with 2 Axes>"
      ]
     },
     "metadata": {
      "needs_background": "light"
     },
     "output_type": "display_data"
    }
   ],
   "source": [
    "from sklearn import metrics\n",
    "# testing score\n",
    "f1 = metrics.f1_score(y_test, y_pred)\n",
    "accuracy = metrics.accuracy_score(y_test, y_pred)\n",
    "precision = metrics.precision_score(y_test, y_pred)\n",
    "recall = metrics.recall_score(y_test, y_pred)\n",
    "\n",
    "print(f1, accuracy, precision, recall)\n",
    "\n",
    "metrics.plot_confusion_matrix(RF, y_train, y_test)\n"
   ]
  },
  {
   "cell_type": "code",
   "execution_count": 18,
   "metadata": {},
   "outputs": [
    {
     "data": {
      "text/plain": [
       "278848"
      ]
     },
     "execution_count": 18,
     "metadata": {},
     "output_type": "execute_result"
    }
   ],
   "source": [
    "len(X)"
   ]
  },
  {
   "cell_type": "code",
   "execution_count": null,
   "metadata": {},
   "outputs": [],
   "source": []
  }
 ],
 "metadata": {
  "kernelspec": {
   "display_name": "Python 3",
   "language": "python",
   "name": "python3"
  },
  "language_info": {
   "codemirror_mode": {
    "name": "ipython",
    "version": 3
   },
   "file_extension": ".py",
   "mimetype": "text/x-python",
   "name": "python",
   "nbconvert_exporter": "python",
   "pygments_lexer": "ipython3",
   "version": "3.7.6"
  }
 },
 "nbformat": 4,
 "nbformat_minor": 4
}
